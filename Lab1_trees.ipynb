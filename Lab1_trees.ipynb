{
 "cells": [
  {
   "cell_type": "code",
   "execution_count": null,
   "metadata": {},
   "outputs": [],
   "source": [
    "# -m pip install networkx\n",
    "# -m pip install matplotlib\n",
    "# !pip install tqdm\n",
    "# !pip install pandas\n",
    "# !pip install numpy\n",
    "# !pip install graphviz\n",
    "# !pip install scikit-learn"
   ]
  },
  {
   "cell_type": "code",
   "execution_count": 80,
   "metadata": {},
   "outputs": [],
   "source": [
    "import random\n",
    "import networkx as nx\n",
    "import pandas as pd\n",
    "import numpy as np\n",
    "import matplotlib.pyplot as plt\n",
    "from itertools import combinations, groupby\n",
    "\n",
    "from networkx.algorithms import tree\n",
    "from networkx.algorithms import bellman_ford_predecessor_and_distance\n",
    "from networkx.algorithms import floyd_warshall_predecessor_and_distance\n",
    "\n",
    "import numpy.typing as npt"
   ]
  },
  {
   "cell_type": "markdown",
   "metadata": {},
   "source": [
    "# Task 1. Algorithm's analysis"
   ]
  },
  {
   "cell_type": "markdown",
   "metadata": {},
   "source": [
    "## Generating graph"
   ]
  },
  {
   "cell_type": "code",
   "execution_count": 81,
   "metadata": {},
   "outputs": [],
   "source": [
    "\n",
    "# You can use this function to generate a random graph with 'num_of_nodes' nodes\n",
    "# and 'completeness' probability of an edge between any two nodes\n",
    "# If 'directed' is True, the graph will be directed\n",
    "# If 'draw' is True, the graph will be drawn\n",
    "def gnp_random_connected_graph(num_of_nodes: int,\n",
    "                               completeness: int,\n",
    "                               directed: bool = False,\n",
    "                               draw: bool = False):\n",
    "    \"\"\"\n",
    "    Generates a random graph, similarly to an Erdős-Rényi \n",
    "    graph, but enforcing that the resulting graph is conneted (in case of undirected graphs)\n",
    "    \"\"\"\n",
    "\n",
    "    \n",
    "    if directed:\n",
    "        G = nx.DiGraph()\n",
    "    else:\n",
    "        G = nx.Graph()\n",
    "    edges = combinations(range(num_of_nodes), 2)\n",
    "    G.add_nodes_from(range(num_of_nodes))\n",
    "    \n",
    "    for _, node_edges in groupby(edges, key = lambda x: x[0]):\n",
    "        node_edges = list(node_edges)\n",
    "        random_edge = random.choice(node_edges)\n",
    "        if random.random() < 0.5:\n",
    "            random_edge = random_edge[::-1]\n",
    "        G.add_edge(*random_edge)\n",
    "        for e in node_edges:\n",
    "            if random.random() < completeness:\n",
    "                G.add_edge(*e)\n",
    "                \n",
    "    for (u,v,w) in G.edges(data=True):\n",
    "        w['weight'] = random.randint(-5, 20)\n",
    "                \n",
    "    if draw: \n",
    "        plt.figure(figsize=(10,6))\n",
    "        if directed:\n",
    "            # draw with edge weights\n",
    "            pos = nx.arf_layout(G)\n",
    "            nx.draw(G,pos, node_color='lightblue', \n",
    "                    with_labels=True,\n",
    "                    node_size=500, \n",
    "                    arrowsize=20, \n",
    "                    arrows=True)\n",
    "            labels = nx.get_edge_attributes(G,'weight')\n",
    "            nx.draw_networkx_edge_labels(G, pos,edge_labels=labels)\n",
    "            \n",
    "        else:\n",
    "            nx.draw(G, node_color='lightblue', \n",
    "                with_labels=True, \n",
    "                node_size=500)\n",
    "        \n",
    "    return G"
   ]
  },
  {
   "cell_type": "code",
   "execution_count": null,
   "metadata": {},
   "outputs": [],
   "source": [
    "G = gnp_random_connected_graph(5, 5, True, True)"
   ]
  },
  {
   "cell_type": "markdown",
   "metadata": {},
   "source": [
    "## Subtask 1.1"
   ]
  },
  {
   "cell_type": "markdown",
   "metadata": {},
   "source": [
    "### Kruskal's algorithm"
   ]
  },
  {
   "cell_type": "code",
   "execution_count": null,
   "metadata": {},
   "outputs": [],
   "source": [
    "mstk = tree.minimum_spanning_tree(G, algorithm=\"kruskal\")"
   ]
  },
  {
   "cell_type": "code",
   "execution_count": null,
   "metadata": {},
   "outputs": [],
   "source": [
    "nx.draw(mstk, node_color='lightblue', \n",
    "        with_labels=True, \n",
    "        node_size=500)"
   ]
  },
  {
   "cell_type": "code",
   "execution_count": null,
   "metadata": {},
   "outputs": [],
   "source": [
    "mstk.edges(), len(mstk.edges())"
   ]
  },
  {
   "cell_type": "markdown",
   "metadata": {},
   "source": [
    "*put your code below* (delete this)"
   ]
  },
  {
   "cell_type": "markdown",
   "metadata": {},
   "source": [
    "### Prim's algorithm"
   ]
  },
  {
   "cell_type": "code",
   "execution_count": 8,
   "metadata": {},
   "outputs": [],
   "source": [
    "mstp = tree.minimum_spanning_tree(G, algorithm=\"prim\")"
   ]
  },
  {
   "cell_type": "code",
   "execution_count": null,
   "metadata": {},
   "outputs": [],
   "source": [
    "nx.draw(mstp, node_color='lightblue', \n",
    "        with_labels=True, \n",
    "        node_size=500)"
   ]
  },
  {
   "cell_type": "code",
   "execution_count": null,
   "metadata": {},
   "outputs": [],
   "source": [
    "mstp.edges(), len(mstp.edges())"
   ]
  },
  {
   "cell_type": "code",
   "execution_count": null,
   "metadata": {},
   "outputs": [],
   "source": [
    "def prim(graph):\n",
    "    '''\n",
    "    computes prim's algorythm\n",
    "    '''\n",
    "    \n",
    "    start = random.choice(list(graph.nodes))\n",
    "    mst = nx.Graph()\n",
    "    visited = {start}\n",
    "\n",
    "    while len(visited) < len(graph.nodes):\n",
    "        best_weight = float('inf')\n",
    "        best_edge = None\n",
    "\n",
    "        for node in visited:\n",
    "            for neighbor, info in graph[node].items():\n",
    "                weight = info['weight']\n",
    "                if neighbor not in visited and weight < best_weight:\n",
    "                    best_weight = weight\n",
    "                    best_edge = (node, neighbor)\n",
    "        \n",
    "        if best_edge:\n",
    "            mst.add_edge(best_edge[0], best_edge[1], weight=best_weight)\n",
    "            visited.add(best_edge[1])\n",
    "\n",
    "    return mst"
   ]
  },
  {
   "cell_type": "code",
   "execution_count": null,
   "metadata": {},
   "outputs": [],
   "source": [
    "num_of_nodes = 10\n",
    "completeness = 0.5\n",
    "G = gnp_random_connected_graph(num_of_nodes, completeness, directed=False, draw=False)\n",
    "mst = prim(G)\n",
    "nx.draw(mst, node_color='lightblue', with_labels=True, node_size=500) "
   ]
  },
  {
   "cell_type": "markdown",
   "metadata": {},
   "source": [
    "## Subtask 1.2"
   ]
  },
  {
   "cell_type": "code",
   "execution_count": null,
   "metadata": {},
   "outputs": [],
   "source": [
    "G = gnp_random_connected_graph(10, 0.5, True, True)\n",
    "mst = prim(G)\n",
    "nx.draw(mst, node_color='lightblue', \n",
    "        with_labels=True,       \n",
    "        node_size=500)"
   ]
  },
  {
   "cell_type": "markdown",
   "metadata": {},
   "source": [
    "### Bellman-Ford algorithm"
   ]
  },
  {
   "cell_type": "code",
   "execution_count": null,
   "metadata": {},
   "outputs": [],
   "source": [
    "\"\"\" belman ford algorithm \"\"\"\n",
    "\n",
    "def bellman_ford(graph: dict, source_vertex: str) -> dict[int | None]:\n",
    "    \"\"\"\n",
    "    Takes in a graph, which is the graph in format (starting_vertex, ending_vertex, weight)\n",
    "    also takes in the number of vertices and the source vertex\n",
    "\n",
    "    returns a dict of the shortest distances or None if negative is detected\n",
    "\n",
    "    Example:\n",
    "        >>> import networkx as nx\n",
    "        >>> G = nx.DiGraph()\n",
    "        >>> G.add_weighted_edges_from([\\\n",
    "                (1, 2, 6),\\\n",
    "                (1, 5, 7),\\\n",
    "                (2, 5, 8),\\\n",
    "                (5, 4, 9),\\\n",
    "                (4, 3, 7),\\\n",
    "                (3, 2, -2),\\\n",
    "                (2, 3, 5),\\\n",
    "                (2, 4, -4),\\\n",
    "                (5, 3, -3)\\\n",
    "            ])\n",
    "        >>> result = bellman_ford(G, 1)\n",
    "        >>> print(result)\n",
    "        Distance to 1: 0\n",
    "        Distance to 2: 2\n",
    "        Distance to 3: 4\n",
    "        Distance to 4: -2\n",
    "        Distance to 5: 7\n",
    "    \"\"\"\n",
    "    # Make starting dictionary\n",
    "    distances_dict = {node: float('inf') for node in graph.nodes}\n",
    "    distances_dict[source_vertex] = 0\n",
    "    num_vertices = len(graph.nodes)\n",
    "\n",
    "    # Do algortihm vertices_num -1 times\n",
    "    for _ in range(num_vertices - 1):\n",
    "        for u, v, weights in graph.edges(data=True):\n",
    "            weight = weights['weight']\n",
    "            if distances_dict[u] + weight < distances_dict[v]:\n",
    "                distances_dict[v] = distances_dict[u] + weight\n",
    "\n",
    "    # Check extra time for neg cycle\n",
    "    for u, v, weights in graph.edges(data=True):\n",
    "        weight = weights['weight']\n",
    "        if distances_dict[u] + weight < distances_dict[v]:\n",
    "            print(\"The graph contains a negaitve weight cycle\")\n",
    "\n",
    "    # Sort starting dict\n",
    "    sorted_dict = dict(sorted(distances_dict.items(), key=lambda item: item[0]))\n",
    "\n",
    "    # Return nice output\n",
    "    output = ''\n",
    "    for num, (key, val) in enumerate(sorted_dict.items()):\n",
    "        if num == len(sorted_dict) - 1:\n",
    "            output += f\"Distance to {key}: {val}\"\n",
    "            break\n",
    "        output += f\"Distance to {key}: {val}\\n\"\n",
    "    return output\n",
    "\n",
    "if __name__ == \"__main__\":\n",
    "    import doctest\n",
    "    print(doctest.testmod())\n"
   ]
  },
  {
   "cell_type": "markdown",
   "metadata": {},
   "source": [
    "### Floyd-Warshall algorithm"
   ]
  },
  {
   "cell_type": "code",
   "execution_count": null,
   "metadata": {},
   "outputs": [],
   "source": [
    "# pred is a dictionary of predecessors, dist is a dictionary of distances dictionaries\n",
    "try:\n",
    "    pred, dist = floyd_warshall_predecessor_and_distance(G) \n",
    "    for k, v in dist.items():\n",
    "        print(f\"Distances with {k} source:\", dict(v))\n",
    "except:\n",
    "    print(\"Negative cycle detected\")"
   ]
  },
  {
   "cell_type": "markdown",
   "metadata": {},
   "source": [
    "*put your code below* (delete this)"
   ]
  },
  {
   "cell_type": "markdown",
   "metadata": {},
   "source": [
    "---"
   ]
  },
  {
   "cell_type": "markdown",
   "metadata": {},
   "source": [
    "## Some useful explanations\n",
    "### How to get list of edges for your algorithm"
   ]
  },
  {
   "cell_type": "code",
   "execution_count": 14,
   "metadata": {},
   "outputs": [],
   "source": [
    "edges = list(G.edges()) # by default G.edges are EdgesView class"
   ]
  },
  {
   "cell_type": "code",
   "execution_count": null,
   "metadata": {},
   "outputs": [],
   "source": [
    "edges[:5]"
   ]
  },
  {
   "cell_type": "markdown",
   "metadata": {},
   "source": [
    "### To get edges with weights"
   ]
  },
  {
   "cell_type": "code",
   "execution_count": 16,
   "metadata": {},
   "outputs": [],
   "source": [
    "edges = list(G.edges(data=True))"
   ]
  },
  {
   "cell_type": "code",
   "execution_count": null,
   "metadata": {},
   "outputs": [],
   "source": [
    "edges[:5]"
   ]
  },
  {
   "cell_type": "code",
   "execution_count": null,
   "metadata": {},
   "outputs": [],
   "source": [
    "nodes = list(G.nodes())\n",
    "print(nodes)"
   ]
  },
  {
   "cell_type": "markdown",
   "metadata": {},
   "source": [
    "## Example on time measuring\n",
    "\n",
    "Read more on this: https://realpython.com/python-timer/\n",
    "\n",
    "Recall that you should measure times for 5, 10, 20, 50, 100, 200, 500 nodes 1000 times (and take mean of time taken for each node amount).\n",
    "\n",
    "Then you should build the plot for two algorithms (x - data size, y - mean time of execution)."
   ]
  },
  {
   "cell_type": "code",
   "execution_count": 19,
   "metadata": {},
   "outputs": [],
   "source": [
    "import time\n",
    "from tqdm import tqdm"
   ]
  },
  {
   "cell_type": "code",
   "execution_count": null,
   "metadata": {},
   "outputs": [],
   "source": [
    "NUM_OF_ITERATIONS = 1000\n",
    "time_taken = 0\n",
    "for i in tqdm(range(NUM_OF_ITERATIONS)):\n",
    "    \n",
    "    # note that we should not measure time of graph creation\n",
    "    G = gnp_random_connected_graph(100, 0.4, False)\n",
    "    \n",
    "    start = time.time()\n",
    "    tree.minimum_spanning_tree(G, algorithm=\"prim\")\n",
    "    end = time.time()\n",
    "    \n",
    "    time_taken += end - start\n",
    "\n",
    "time_taken / NUM_OF_ITERATIONS"
   ]
  },
  {
   "cell_type": "markdown",
   "metadata": {},
   "source": [
    "## Task 2. Decision Tree Classifier "
   ]
  },
  {
   "cell_type": "code",
   "execution_count": 110,
   "metadata": {},
   "outputs": [],
   "source": [
    "# scikit-learn package\n",
    "from sklearn.datasets import load_iris\n",
    "from sklearn.model_selection import cross_val_score\n",
    "from sklearn.tree import DecisionTreeClassifier\n",
    "from sklearn import tree\n",
    "from sklearn.model_selection import train_test_split"
   ]
  },
  {
   "cell_type": "markdown",
   "metadata": {},
   "source": [
    "![purple-divider](https://user-images.githubusercontent.com/7065401/52071927-c1cd7100-2562-11e9-908a-dde91ba14e59.png)"
   ]
  },
  {
   "cell_type": "markdown",
   "metadata": {},
   "source": [
    "### Visualization of produced tree\n",
    "\n",
    "You do not need to understand this piece of code :)"
   ]
  },
  {
   "cell_type": "code",
   "execution_count": null,
   "metadata": {},
   "outputs": [],
   "source": [
    "import graphviz \n",
    "dot_data = tree.export_graphviz(clf, out_file=None) \n",
    "graph = graphviz.Source(dot_data) \n",
    "graph.render(\"iris\")"
   ]
  },
  {
   "cell_type": "code",
   "execution_count": null,
   "metadata": {},
   "outputs": [],
   "source": [
    "dot_data = tree.export_graphviz(clf, out_file=None, \n",
    "                     feature_names=iris.feature_names,  \n",
    "                     class_names=iris.target_names,  \n",
    "                     filled=True, rounded=True,  \n",
    "                     special_characters=True)  \n",
    "graph = graphviz.Source(dot_data)  \n",
    "graph "
   ]
  },
  {
   "cell_type": "markdown",
   "metadata": {},
   "source": [
    "### Prediction step\n",
    "\n",
    "Now we can use our model to predict which type has a flower, basing on its parameters.\n",
    "\n",
    "This is conducted basically via traversing the tree that you can see above."
   ]
  },
  {
   "cell_type": "markdown",
   "metadata": {},
   "source": [
    "![purple-divider](https://user-images.githubusercontent.com/7065401/52071927-c1cd7100-2562-11e9-908a-dde91ba14e59.png)"
   ]
  },
  {
   "cell_type": "markdown",
   "metadata": {},
   "source": [
    "### Finally, it is your turn to write such classifier by yourself!\n",
    "\n",
    "####  Gini impurity\n",
    "\n",
    "Decision trees use the concept of Gini impurity to describe how “pure” a node is. A node is pure (G = 0) if all its samples belong to the same class, while a node with many samples from many different classes will have a Gini closer to 1.\n",
    "\n",
    "$G = 1 - \\sum_{k=1}^{n}p_{k}^2$\n",
    "\n",
    "For example, if a node contains five samples, with two belonging to the first class (first flower), two of class 2, one of class 3 and none of class 4, then\n",
    "\n",
    "$G = 1 - (\\frac{2}{5})^2 - (\\frac{2}{5})^2 - (\\frac{1}{5})^2 = 0.64$\n",
    "\n",
    "#### Remarks \n",
    "- We recommend using additional functions in `DecisionTreeClassifier` class, to make the implementation process easier.\n",
    "- [use this hint](https://arc.net/l/quote/pqvyjqei)"
   ]
  },
  {
   "cell_type": "code",
   "execution_count": null,
   "metadata": {},
   "outputs": [],
   "source": [
    "# importing all neccesary libraries\n",
    "from sklearn.model_selection import train_test_split\n",
    "import pandas as pd\n",
    "import numpy as np\n",
    "from networkx.algorithms import tree"
   ]
  },
  {
   "cell_type": "code",
   "execution_count": null,
   "metadata": {},
   "outputs": [],
   "source": [
    "# setting things up\n",
    "\n",
    "data = pd.read_csv('drug200.csv')\n",
    "encoding = {\n",
    "    'Sex': {'F': 0, 'M': 1},\n",
    "    'BP': {'LOW': 0, 'NORMAL': 1, 'HIGH': 2},\n",
    "    'Cholesterol': {'NORMAL': 0, 'HIGH': 1},\n",
    "    'Drug': {'drugA': 0, 'drugB': 1, 'drugC': 2, 'drugX': 3, 'drugY': 4}\n",
    "}\n",
    "\n",
    "data['Sex'] = data['Sex'].map(encoding['Sex'])\n",
    "data['BP'] = data['BP'].map(encoding['BP'])\n",
    "data['Cholesterol'] = data['Cholesterol'].map(encoding['Cholesterol'])\n",
    "data['Drug'] = data['Drug'].map(encoding['Drug'])\n",
    "\n",
    "X = data.drop('Drug', axis=1).values\n",
    "y = data['Drug'].values\n",
    "X_train, X_test, y_train, y_test = train_test_split(X, y, test_size=0.2)"
   ]
  },
  {
   "cell_type": "code",
   "execution_count": null,
   "metadata": {},
   "outputs": [],
   "source": [
    "# DECISION TREE\n",
    "\n",
    "class Node:\n",
    "    def __init__(self, feature=None, threshold=None, left=None, right=None, label=None):\n",
    "        self.feature = feature\n",
    "        self.threshold = threshold\n",
    "        self.left = left\n",
    "        self.right = right\n",
    "        self.label = label\n",
    "\n",
    "class DecisionTree:\n",
    "    def __init__(self, max_depth=None):\n",
    "        self.max_depth = max_depth\n",
    "        self.root = None\n",
    "    \n",
    "    @staticmethod\n",
    "    def gini(y):\n",
    "        total_counter = len(y)\n",
    "        classes_counter = {}\n",
    "        for label in y:\n",
    "            classes_counter[label] = classes_counter.get(label, 0) + 1\n",
    "        impurity = 1 - sum((count / total_counter) ** 2 for count in classes_counter.values())\n",
    "        return impurity\n",
    "    \n",
    "    def best_split(self, X, y):\n",
    "        min_gini = float('inf')\n",
    "        best_split = None\n",
    "        best_left_idx, best_right_idx = None, None\n",
    "        \n",
    "        for feature_id in range(X.shape[1]):\n",
    "            thresholds = np.unique(X[:, feature_id])\n",
    "            for threshold in thresholds:\n",
    "                left_idx = np.where(X[:, feature_id] <= threshold)[0]\n",
    "                right_idx = np.where(X[:, feature_id] > threshold)[0]\n",
    "\n",
    "                if left_idx.size == 0 or right_idx.size == 0:\n",
    "                    continue\n",
    "\n",
    "                left_y = y[left_idx]\n",
    "                right_y = y[right_idx]\n",
    "\n",
    "                gini_score = (len(left_y) * self.gini(left_y) + len(right_y) * self.gini(right_y)) / len(y)\n",
    "\n",
    "                if gini_score < min_gini:\n",
    "                    min_gini = gini_score\n",
    "                    best_split = (feature_id, threshold)\n",
    "                    best_left_idx = left_idx\n",
    "                    best_right_idx = right_idx\n",
    "        \n",
    "        return best_split, best_left_idx, best_right_idx\n",
    "    \n",
    "    def build_tree(self, X, y, depth=0):\n",
    "        if len(set(y)) == 1:\n",
    "            return Node(label=y[0])\n",
    "\n",
    "        if self.max_depth and depth >= self.max_depth:\n",
    "            most_common_label = max(set(y), key=list(y).count)\n",
    "            return Node(label=most_common_label)\n",
    "\n",
    "        best_split, left_idx, right_idx = self.best_split(X, y)\n",
    "        if not best_split:\n",
    "            most_common_label = max(set(y), key=list(y).count)\n",
    "            return Node(label=most_common_label)\n",
    "\n",
    "        feature, threshold = best_split\n",
    "        left_subtree = self.build_tree(X[left_idx], y[left_idx], depth + 1)\n",
    "        right_subtree = self.build_tree(X[right_idx], y[right_idx], depth + 1)\n",
    "        \n",
    "        return Node(feature=feature, threshold=threshold, left=left_subtree, right=right_subtree)\n",
    "    \n",
    "    def fit(self, X, y):\n",
    "        self.root = self.build_tree(X, y)\n",
    "\n",
    "    def predict(self, X):\n",
    "        predictions = []\n",
    "        for row in X:\n",
    "            node = self.root\n",
    "            while node.label is None:\n",
    "                if row[node.feature] <= node.threshold:\n",
    "                    node = node.left\n",
    "                else:\n",
    "                    node = node.right\n",
    "            predictions.append(node.label)\n",
    "        return predictions"
   ]
  },
  {
   "cell_type": "code",
   "execution_count": null,
   "metadata": {},
   "outputs": [],
   "source": [
    "# Initializing and training the decision tree\n",
    "tree = DecisionTree(max_depth=0)\n",
    "tree.fit(X_train, y_train)\n",
    "\n",
    "# Making predictions\n",
    "predictions = tree.predict(X_test)\n",
    "print(\"Predictions:\", predictions)\n",
    "print(f\"Accuracy = {sum(predictions == y_test) / len(y_test)}\")"
   ]
  },
  {
   "cell_type": "code",
   "execution_count": null,
   "metadata": {},
   "outputs": [],
   "source": [
    "# visualization \n",
    "import graphviz \n",
    "dot_data = tree.export_graphviz(clf, out_file=None) \n",
    "graph = graphviz.Source(dot_data) \n",
    "graph.render(\"iris\")"
   ]
  }
 ],
 "metadata": {
  "kernelspec": {
   "display_name": "Python 3",
   "language": "python",
   "name": "python3"
  },
  "language_info": {
   "codemirror_mode": {
    "name": "ipython",
    "version": 3
   },
   "file_extension": ".py",
   "mimetype": "text/x-python",
   "name": "python",
   "nbconvert_exporter": "python",
   "pygments_lexer": "ipython3",
   "version": "3.12.6"
  }
 },
 "nbformat": 4,
 "nbformat_minor": 2
}
